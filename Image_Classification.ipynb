{
  "nbformat": 4,
  "nbformat_minor": 0,
  "metadata": {
    "colab": {
      "provenance": []
    },
    "kernelspec": {
      "name": "python3",
      "display_name": "Python 3"
    },
    "language_info": {
      "name": "python"
    },
    "accelerator": "GPU",
    "gpuClass": "standard"
  },
  "cells": [
    {
      "cell_type": "code",
      "execution_count": null,
      "metadata": {
        "colab": {
          "base_uri": "https://localhost:8080/"
        },
        "id": "V6qsspsFBxO2",
        "outputId": "02e6a99b-d7bc-4f37-f38c-34c1685977ac"
      },
      "outputs": [
        {
          "output_type": "stream",
          "name": "stdout",
          "text": [
            "Drive already mounted at /content/drive; to attempt to forcibly remount, call drive.mount(\"/content/drive\", force_remount=True).\n"
          ]
        }
      ],
      "source": [
        "from google.colab import drive\n",
        "drive.mount('/content/drive')"
      ]
    },
    {
      "cell_type": "code",
      "source": [
        "!unzip -uq \"/content/drive/MyDrive/train.zip\" -d \"/content/drive/My Drive/train\"\n",
        "!unzip -uq \"/content/drive/MyDrive/test.zip\" -d \"/content/drive/My Drive/test\""
      ],
      "metadata": {
        "id": "4EigbajzCEN8"
      },
      "execution_count": null,
      "outputs": []
    },
    {
      "cell_type": "code",
      "source": [
        "import pandas as pd\n",
        "import numpy as np\n",
        "import matplotlib.pyplot as plt\n",
        "%matplotlib inline\n",
        "import seaborn as sns\n",
        "sns.set(style=\"whitegrid\")\n",
        "import os\n",
        "import glob as gb\n",
        "import cv2\n",
        "import tensorflow as tf\n",
        "import keras\n",
        "import tensorflow.keras.layers as Layers\n",
        "import tensorflow.keras.activations as Actications\n",
        "import tensorflow.keras.models as Models\n",
        "import tensorflow.keras.optimizers as Optimizer\n",
        "import tensorflow.keras.metrics as Metrics\n",
        "import tensorflow.keras.utils as Utils\n",
        "from keras.utils.vis_utils import model_to_dot\n",
        "from IPython.display import SVG\n",
        "from sklearn.model_selection import train_test_split\n"
      ],
      "metadata": {
        "id": "JJoVmCYkCEPb"
      },
      "execution_count": null,
      "outputs": []
    },
    {
      "cell_type": "code",
      "source": [
        "trainpath = '../content/drive/MyDrive/train/seg_train/'\n",
        "testpath = '../content/drive/MyDrive/test/test/'"
      ],
      "metadata": {
        "id": "7KTvo1WlCEUB"
      },
      "execution_count": null,
      "outputs": []
    },
    {
      "cell_type": "code",
      "source": [
        "for folder in  os.listdir(trainpath) : \n",
        "    files = gb.glob(pathname= str( trainpath + folder + '/*.jpg'))\n",
        "    print(f'In {folder}, found {len(files)} pics ')"
      ],
      "metadata": {
        "colab": {
          "base_uri": "https://localhost:8080/"
        },
        "id": "oWtuxkYhCEhv",
        "outputId": "a7a8f04c-f06e-45bf-a366-7a9690814615"
      },
      "execution_count": null,
      "outputs": [
        {
          "output_type": "stream",
          "name": "stdout",
          "text": [
            "In glacier, found 2404 pics \n",
            "In forest, found 2271 pics \n",
            "In street, found 2382 pics \n",
            "In mountain, found 2512 pics \n",
            "In sea, found 2274 pics \n",
            "In buildings, found 2191 pics \n"
          ]
        }
      ]
    },
    {
      "cell_type": "code",
      "source": [
        "code = {'buildings': 0, 'forest': 1, 'glacier': 2, 'mountain': 3, 'sea': 4, 'street': 5}\n",
        "\n",
        "def getcode(n) : \n",
        "    for x , y in code.items() : \n",
        "        if n == y : \n",
        "            return x    "
      ],
      "metadata": {
        "id": "UBzuZdnoCEjY"
      },
      "execution_count": null,
      "outputs": []
    },
    {
      "cell_type": "code",
      "source": [
        "X_train = []\n",
        "Y_train = []\n",
        "for folder in  os.listdir(trainpath) : \n",
        "    files = gb.glob(pathname= str( trainpath + folder + '/*.jpg'))\n",
        "    for file in files: \n",
        "        image = cv2.imread(file)\n",
        "        image_array = cv2.resize(image , (150,150))\n",
        "        X_train.append(list(image_array))\n",
        "        Y_train.append(code[folder])"
      ],
      "metadata": {
        "id": "KO_EeAHdCErw"
      },
      "execution_count": null,
      "outputs": []
    },
    {
      "cell_type": "code",
      "source": [
        "X_pred = []\n",
        "files = gb.glob(pathname= str(testpath + '/*.jpg'))\n",
        "for file in files: \n",
        "    image = cv2.imread(file)\n",
        "    #image_array = cv2.resize(image , (150,150))\n",
        "    X_pred.append(list(image_array))      "
      ],
      "metadata": {
        "id": "q020oHjrlW9d"
      },
      "execution_count": null,
      "outputs": []
    },
    {
      "cell_type": "code",
      "source": [
        "from tensorflow.keras.utils import load_img\n",
        "\n",
        "X = []\n",
        "for i in range(0, 3000):\n",
        "  image = load_img(f'../content/drive/MyDrive/test/test/{i}.jpg')\n",
        "  X.append(image) \n",
        "for j in range(len(X)):\n",
        "  X[j] = np.array(X[j])\n",
        "  X[j] = cv2.resize(X[j] , (150,150))"
      ],
      "metadata": {
        "id": "5qBJCjrGK1ST"
      },
      "execution_count": null,
      "outputs": []
    },
    {
      "cell_type": "code",
      "source": [
        "X = np.array(X)\n",
        "X.shape"
      ],
      "metadata": {
        "colab": {
          "base_uri": "https://localhost:8080/"
        },
        "id": "NedcXhcCUu_8",
        "outputId": "b3b7fa8f-92e7-4a74-b6b0-b7a2aecc587e"
      },
      "execution_count": null,
      "outputs": [
        {
          "output_type": "execute_result",
          "data": {
            "text/plain": [
              "(3000, 150, 150, 3)"
            ]
          },
          "metadata": {},
          "execution_count": 10
        }
      ]
    },
    {
      "cell_type": "code",
      "source": [
        "X_pred = np.array(X_pred)\n",
        "X_pred.shape"
      ],
      "metadata": {
        "colab": {
          "base_uri": "https://localhost:8080/"
        },
        "id": "Hu9cG7G1DrGG",
        "outputId": "3728052b-391e-44ed-f255-848d4c345aaf"
      },
      "execution_count": null,
      "outputs": [
        {
          "output_type": "execute_result",
          "data": {
            "text/plain": [
              "(3000, 150, 150, 3)"
            ]
          },
          "metadata": {},
          "execution_count": 11
        }
      ]
    },
    {
      "cell_type": "code",
      "source": [
        "X_train = np.array(X_train)\n",
        "Y_train = np.array(Y_train)"
      ],
      "metadata": {
        "id": "tiUVVSRxDrMJ"
      },
      "execution_count": null,
      "outputs": []
    },
    {
      "cell_type": "code",
      "source": [
        "model = keras.models.Sequential([\n",
        "\n",
        " keras.layers.Conv2D(200,kernel_size=(3,3),activation='relu',input_shape=(150,150,3)),\n",
        " keras.layers.Conv2D(180,kernel_size=(3,3),activation='relu'),\n",
        " keras.layers.MaxPool2D(5,5),\n",
        " keras.layers.Conv2D(180,kernel_size=(3,3),activation='relu'),\n",
        " keras.layers.Conv2D(140,kernel_size=(3,3),activation='relu'),\n",
        " keras.layers.Conv2D(100,kernel_size=(3,3),activation='relu'),\n",
        " keras.layers.Conv2D(50,kernel_size=(3,3),activation='relu'),\n",
        " keras.layers.MaxPool2D(5,5),\n",
        " keras.layers.Flatten(),\n",
        " keras.layers.Dense(180,activation='relu'),\n",
        " keras.layers.Dense(100,activation='relu'),\n",
        " keras.layers.Dense(50,activation='relu'),\n",
        " keras.layers.Dropout(rate=0.5),\n",
        " keras.layers.Dense(6,activation='softmax'),\n",
        "])\n",
        "\n",
        "model.compile(optimizer=Optimizer.Adam(learning_rate=0.0001),loss='sparse_categorical_crossentropy',metrics=['accuracy'])\n",
        "\n",
        "model.summary()\n",
        "#SVG(model_to_dot(model).create(prog='dot', format='svg'))\n",
        "#Utils.plot_model(model,to_file='model.png',show_shapes=True)"
      ],
      "metadata": {
        "id": "7OMYAyNDDrNq",
        "colab": {
          "base_uri": "https://localhost:8080/"
        },
        "outputId": "637d52d7-b62d-4278-b071-c5d10dfad8ae"
      },
      "execution_count": null,
      "outputs": [
        {
          "output_type": "stream",
          "name": "stdout",
          "text": [
            "Model: \"sequential\"\n",
            "_________________________________________________________________\n",
            " Layer (type)                Output Shape              Param #   \n",
            "=================================================================\n",
            " conv2d (Conv2D)             (None, 148, 148, 200)     5600      \n",
            "                                                                 \n",
            " conv2d_1 (Conv2D)           (None, 146, 146, 180)     324180    \n",
            "                                                                 \n",
            " max_pooling2d (MaxPooling2D  (None, 29, 29, 180)      0         \n",
            " )                                                               \n",
            "                                                                 \n",
            " conv2d_2 (Conv2D)           (None, 27, 27, 180)       291780    \n",
            "                                                                 \n",
            " conv2d_3 (Conv2D)           (None, 25, 25, 140)       226940    \n",
            "                                                                 \n",
            " conv2d_4 (Conv2D)           (None, 23, 23, 100)       126100    \n",
            "                                                                 \n",
            " conv2d_5 (Conv2D)           (None, 21, 21, 50)        45050     \n",
            "                                                                 \n",
            " max_pooling2d_1 (MaxPooling  (None, 4, 4, 50)         0         \n",
            " 2D)                                                             \n",
            "                                                                 \n",
            " flatten (Flatten)           (None, 800)               0         \n",
            "                                                                 \n",
            " dense (Dense)               (None, 180)               144180    \n",
            "                                                                 \n",
            " dense_1 (Dense)             (None, 100)               18100     \n",
            "                                                                 \n",
            " dense_2 (Dense)             (None, 50)                5050      \n",
            "                                                                 \n",
            " dropout (Dropout)           (None, 50)                0         \n",
            "                                                                 \n",
            " dense_3 (Dense)             (None, 6)                 306       \n",
            "                                                                 \n",
            "=================================================================\n",
            "Total params: 1,187,286\n",
            "Trainable params: 1,187,286\n",
            "Non-trainable params: 0\n",
            "_________________________________________________________________\n"
          ]
        }
      ]
    },
    {
      "cell_type": "code",
      "source": [
        "Trained = model.fit(X_train, Y_train, epochs=50, batch_size=64, verbose=1)"
      ],
      "metadata": {
        "id": "M6sMAXNGDrXc",
        "colab": {
          "base_uri": "https://localhost:8080/"
        },
        "outputId": "a452014f-834d-4c41-987b-5aee594b9d58"
      },
      "execution_count": null,
      "outputs": [
        {
          "output_type": "stream",
          "name": "stdout",
          "text": [
            "Epoch 1/50\n",
            "220/220 [==============================] - 144s 653ms/step - loss: 1.5166 - accuracy: 0.3966\n",
            "Epoch 2/50\n",
            "220/220 [==============================] - 143s 648ms/step - loss: 1.1876 - accuracy: 0.5444\n",
            "Epoch 3/50\n",
            "220/220 [==============================] - 142s 647ms/step - loss: 1.0183 - accuracy: 0.6300\n",
            "Epoch 4/50\n",
            "220/220 [==============================] - 142s 647ms/step - loss: 0.9171 - accuracy: 0.6794\n",
            "Epoch 5/50\n",
            "220/220 [==============================] - 142s 648ms/step - loss: 0.8057 - accuracy: 0.7229\n",
            "Epoch 6/50\n",
            "220/220 [==============================] - 142s 648ms/step - loss: 0.7449 - accuracy: 0.7475\n",
            "Epoch 7/50\n",
            "220/220 [==============================] - 142s 647ms/step - loss: 0.6890 - accuracy: 0.7712\n",
            "Epoch 8/50\n",
            "220/220 [==============================] - 143s 648ms/step - loss: 0.6445 - accuracy: 0.7887\n",
            "Epoch 9/50\n",
            "220/220 [==============================] - 143s 648ms/step - loss: 0.5995 - accuracy: 0.8008\n",
            "Epoch 10/50\n",
            "220/220 [==============================] - 142s 648ms/step - loss: 0.5700 - accuracy: 0.8117\n",
            "Epoch 11/50\n",
            "220/220 [==============================] - 143s 648ms/step - loss: 0.5299 - accuracy: 0.8273\n",
            "Epoch 12/50\n",
            "220/220 [==============================] - 143s 648ms/step - loss: 0.4685 - accuracy: 0.8433\n",
            "Epoch 13/50\n",
            "220/220 [==============================] - 143s 649ms/step - loss: 0.4744 - accuracy: 0.8448\n",
            "Epoch 14/50\n",
            "220/220 [==============================] - 143s 648ms/step - loss: 0.4357 - accuracy: 0.8603\n",
            "Epoch 15/50\n",
            "220/220 [==============================] - 143s 648ms/step - loss: 0.3989 - accuracy: 0.8675\n",
            "Epoch 16/50\n",
            "220/220 [==============================] - 143s 648ms/step - loss: 0.3694 - accuracy: 0.8783\n",
            "Epoch 17/50\n",
            "220/220 [==============================] - 143s 649ms/step - loss: 0.3444 - accuracy: 0.8843\n",
            "Epoch 18/50\n",
            "220/220 [==============================] - 142s 648ms/step - loss: 0.3348 - accuracy: 0.8888\n",
            "Epoch 19/50\n",
            "220/220 [==============================] - 143s 649ms/step - loss: 0.3025 - accuracy: 0.9030\n",
            "Epoch 20/50\n",
            "220/220 [==============================] - 143s 648ms/step - loss: 0.2662 - accuracy: 0.9141\n",
            "Epoch 21/50\n",
            "220/220 [==============================] - 143s 648ms/step - loss: 0.2423 - accuracy: 0.9198\n",
            "Epoch 22/50\n",
            "220/220 [==============================] - 143s 648ms/step - loss: 0.2552 - accuracy: 0.9178\n",
            "Epoch 23/50\n",
            "220/220 [==============================] - 143s 649ms/step - loss: 0.2248 - accuracy: 0.9270\n",
            "Epoch 24/50\n",
            "220/220 [==============================] - 143s 648ms/step - loss: 0.2233 - accuracy: 0.9282\n",
            "Epoch 25/50\n",
            "220/220 [==============================] - 143s 649ms/step - loss: 0.1967 - accuracy: 0.9382\n",
            "Epoch 26/50\n",
            "220/220 [==============================] - 143s 649ms/step - loss: 0.1856 - accuracy: 0.9403\n",
            "Epoch 27/50\n",
            "220/220 [==============================] - 143s 648ms/step - loss: 0.1509 - accuracy: 0.9518\n",
            "Epoch 28/50\n",
            "220/220 [==============================] - 142s 647ms/step - loss: 0.1584 - accuracy: 0.9510\n",
            "Epoch 29/50\n",
            "220/220 [==============================] - 142s 645ms/step - loss: 0.1376 - accuracy: 0.9562\n",
            "Epoch 30/50\n",
            "220/220 [==============================] - 142s 644ms/step - loss: 0.1147 - accuracy: 0.9635\n",
            "Epoch 31/50\n",
            "220/220 [==============================] - 142s 643ms/step - loss: 0.1338 - accuracy: 0.9574\n",
            "Epoch 32/50\n",
            "220/220 [==============================] - 142s 644ms/step - loss: 0.1036 - accuracy: 0.9684\n",
            "Epoch 33/50\n",
            "220/220 [==============================] - 142s 643ms/step - loss: 0.1271 - accuracy: 0.9590\n",
            "Epoch 34/50\n",
            "220/220 [==============================] - 141s 643ms/step - loss: 0.1044 - accuracy: 0.9662\n",
            "Epoch 35/50\n",
            "220/220 [==============================] - 142s 643ms/step - loss: 0.0904 - accuracy: 0.9719\n",
            "Epoch 36/50\n",
            "220/220 [==============================] - 141s 643ms/step - loss: 0.0892 - accuracy: 0.9731\n",
            "Epoch 37/50\n",
            "220/220 [==============================] - 142s 643ms/step - loss: 0.0895 - accuracy: 0.9723\n",
            "Epoch 38/50\n",
            "220/220 [==============================] - 142s 644ms/step - loss: 0.0782 - accuracy: 0.9767\n",
            "Epoch 39/50\n",
            "220/220 [==============================] - 142s 644ms/step - loss: 0.0801 - accuracy: 0.9761\n",
            "Epoch 40/50\n",
            "220/220 [==============================] - 142s 644ms/step - loss: 0.0619 - accuracy: 0.9827\n",
            "Epoch 41/50\n",
            "220/220 [==============================] - 142s 644ms/step - loss: 0.0762 - accuracy: 0.9766\n",
            "Epoch 42/50\n",
            "220/220 [==============================] - 142s 644ms/step - loss: 0.0703 - accuracy: 0.9796\n",
            "Epoch 43/50\n",
            "220/220 [==============================] - 142s 643ms/step - loss: 0.0722 - accuracy: 0.9778\n",
            "Epoch 44/50\n",
            "220/220 [==============================] - 141s 642ms/step - loss: 0.0557 - accuracy: 0.9830\n",
            "Epoch 45/50\n",
            "220/220 [==============================] - 141s 642ms/step - loss: 0.0841 - accuracy: 0.9750\n",
            "Epoch 46/50\n",
            "220/220 [==============================] - 141s 642ms/step - loss: 0.0670 - accuracy: 0.9800\n",
            "Epoch 47/50\n",
            "220/220 [==============================] - 141s 642ms/step - loss: 0.0605 - accuracy: 0.9845\n",
            "Epoch 48/50\n",
            "220/220 [==============================] - 142s 643ms/step - loss: 0.0524 - accuracy: 0.9846\n",
            "Epoch 49/50\n",
            "220/220 [==============================] - 143s 648ms/step - loss: 0.0720 - accuracy: 0.9788\n",
            "Epoch 50/50\n",
            "220/220 [==============================] - 143s 648ms/step - loss: 0.0531 - accuracy: 0.9845\n"
          ]
        }
      ]
    },
    {
      "cell_type": "code",
      "source": [
        "predictions = model.predict(X)\n",
        "predictions.shape"
      ],
      "metadata": {
        "id": "KXotboWzyFKJ",
        "colab": {
          "base_uri": "https://localhost:8080/"
        },
        "outputId": "24f9d0b1-ed9e-47df-8164-58ae45635bef"
      },
      "execution_count": null,
      "outputs": [
        {
          "output_type": "stream",
          "name": "stdout",
          "text": [
            "94/94 [==============================] - 11s 97ms/step\n"
          ]
        },
        {
          "output_type": "execute_result",
          "data": {
            "text/plain": [
              "(3000, 6)"
            ]
          },
          "metadata": {},
          "execution_count": 16
        }
      ]
    },
    {
      "cell_type": "code",
      "source": [
        "preds_index = np.argmax(predictions, axis=1)\n",
        "preds_index"
      ],
      "metadata": {
        "id": "RkIwNESZ3O73",
        "colab": {
          "base_uri": "https://localhost:8080/"
        },
        "outputId": "0822e810-e3d4-4003-ce9a-209cc82f3a6a"
      },
      "execution_count": null,
      "outputs": [
        {
          "output_type": "execute_result",
          "data": {
            "text/plain": [
              "array([5, 4, 0, ..., 0, 1, 1])"
            ]
          },
          "metadata": {},
          "execution_count": 17
        }
      ]
    },
    {
      "cell_type": "code",
      "source": [
        "df = pd.read_csv(\"../content/drive/MyDrive/sample (1).csv\")"
      ],
      "metadata": {
        "id": "wmztcFOAmjU7"
      },
      "execution_count": null,
      "outputs": []
    },
    {
      "cell_type": "code",
      "source": [
        "X=df['id']\n",
        "X.shape"
      ],
      "metadata": {
        "id": "e-7bCP_VwNFm",
        "colab": {
          "base_uri": "https://localhost:8080/"
        },
        "outputId": "acd83f10-4bdb-41f9-d291-2e2aaa2180de"
      },
      "execution_count": null,
      "outputs": [
        {
          "output_type": "execute_result",
          "data": {
            "text/plain": [
              "(3000,)"
            ]
          },
          "metadata": {},
          "execution_count": 19
        }
      ]
    },
    {
      "cell_type": "code",
      "source": [
        "preds_index.reshape(-1,1).shape"
      ],
      "metadata": {
        "id": "ZcsFIWf4wNLh",
        "colab": {
          "base_uri": "https://localhost:8080/"
        },
        "outputId": "6f77728d-4e9b-4e37-8a6c-c6e21d3a7c10"
      },
      "execution_count": null,
      "outputs": [
        {
          "output_type": "execute_result",
          "data": {
            "text/plain": [
              "(3000, 1)"
            ]
          },
          "metadata": {},
          "execution_count": 20
        }
      ]
    },
    {
      "cell_type": "code",
      "source": [
        "result=pd.DataFrame({\"id\":X,\"label\":preds_index})\n",
        "result"
      ],
      "metadata": {
        "id": "YtWWHiv2mja-",
        "colab": {
          "base_uri": "https://localhost:8080/",
          "height": 424
        },
        "outputId": "8fc653bf-84dc-45dd-a583-09cc819a8346"
      },
      "execution_count": null,
      "outputs": [
        {
          "output_type": "execute_result",
          "data": {
            "text/plain": [
              "        id  label\n",
              "0        0      5\n",
              "1        1      4\n",
              "2        2      0\n",
              "3        3      3\n",
              "4        4      4\n",
              "...    ...    ...\n",
              "2995  2995      5\n",
              "2996  2996      4\n",
              "2997  2997      0\n",
              "2998  2998      1\n",
              "2999  2999      1\n",
              "\n",
              "[3000 rows x 2 columns]"
            ],
            "text/html": [
              "\n",
              "  <div id=\"df-5c80b534-c1b4-4153-bdbe-4ef242934d86\">\n",
              "    <div class=\"colab-df-container\">\n",
              "      <div>\n",
              "<style scoped>\n",
              "    .dataframe tbody tr th:only-of-type {\n",
              "        vertical-align: middle;\n",
              "    }\n",
              "\n",
              "    .dataframe tbody tr th {\n",
              "        vertical-align: top;\n",
              "    }\n",
              "\n",
              "    .dataframe thead th {\n",
              "        text-align: right;\n",
              "    }\n",
              "</style>\n",
              "<table border=\"1\" class=\"dataframe\">\n",
              "  <thead>\n",
              "    <tr style=\"text-align: right;\">\n",
              "      <th></th>\n",
              "      <th>id</th>\n",
              "      <th>label</th>\n",
              "    </tr>\n",
              "  </thead>\n",
              "  <tbody>\n",
              "    <tr>\n",
              "      <th>0</th>\n",
              "      <td>0</td>\n",
              "      <td>5</td>\n",
              "    </tr>\n",
              "    <tr>\n",
              "      <th>1</th>\n",
              "      <td>1</td>\n",
              "      <td>4</td>\n",
              "    </tr>\n",
              "    <tr>\n",
              "      <th>2</th>\n",
              "      <td>2</td>\n",
              "      <td>0</td>\n",
              "    </tr>\n",
              "    <tr>\n",
              "      <th>3</th>\n",
              "      <td>3</td>\n",
              "      <td>3</td>\n",
              "    </tr>\n",
              "    <tr>\n",
              "      <th>4</th>\n",
              "      <td>4</td>\n",
              "      <td>4</td>\n",
              "    </tr>\n",
              "    <tr>\n",
              "      <th>...</th>\n",
              "      <td>...</td>\n",
              "      <td>...</td>\n",
              "    </tr>\n",
              "    <tr>\n",
              "      <th>2995</th>\n",
              "      <td>2995</td>\n",
              "      <td>5</td>\n",
              "    </tr>\n",
              "    <tr>\n",
              "      <th>2996</th>\n",
              "      <td>2996</td>\n",
              "      <td>4</td>\n",
              "    </tr>\n",
              "    <tr>\n",
              "      <th>2997</th>\n",
              "      <td>2997</td>\n",
              "      <td>0</td>\n",
              "    </tr>\n",
              "    <tr>\n",
              "      <th>2998</th>\n",
              "      <td>2998</td>\n",
              "      <td>1</td>\n",
              "    </tr>\n",
              "    <tr>\n",
              "      <th>2999</th>\n",
              "      <td>2999</td>\n",
              "      <td>1</td>\n",
              "    </tr>\n",
              "  </tbody>\n",
              "</table>\n",
              "<p>3000 rows × 2 columns</p>\n",
              "</div>\n",
              "      <button class=\"colab-df-convert\" onclick=\"convertToInteractive('df-5c80b534-c1b4-4153-bdbe-4ef242934d86')\"\n",
              "              title=\"Convert this dataframe to an interactive table.\"\n",
              "              style=\"display:none;\">\n",
              "        \n",
              "  <svg xmlns=\"http://www.w3.org/2000/svg\" height=\"24px\"viewBox=\"0 0 24 24\"\n",
              "       width=\"24px\">\n",
              "    <path d=\"M0 0h24v24H0V0z\" fill=\"none\"/>\n",
              "    <path d=\"M18.56 5.44l.94 2.06.94-2.06 2.06-.94-2.06-.94-.94-2.06-.94 2.06-2.06.94zm-11 1L8.5 8.5l.94-2.06 2.06-.94-2.06-.94L8.5 2.5l-.94 2.06-2.06.94zm10 10l.94 2.06.94-2.06 2.06-.94-2.06-.94-.94-2.06-.94 2.06-2.06.94z\"/><path d=\"M17.41 7.96l-1.37-1.37c-.4-.4-.92-.59-1.43-.59-.52 0-1.04.2-1.43.59L10.3 9.45l-7.72 7.72c-.78.78-.78 2.05 0 2.83L4 21.41c.39.39.9.59 1.41.59.51 0 1.02-.2 1.41-.59l7.78-7.78 2.81-2.81c.8-.78.8-2.07 0-2.86zM5.41 20L4 18.59l7.72-7.72 1.47 1.35L5.41 20z\"/>\n",
              "  </svg>\n",
              "      </button>\n",
              "      \n",
              "  <style>\n",
              "    .colab-df-container {\n",
              "      display:flex;\n",
              "      flex-wrap:wrap;\n",
              "      gap: 12px;\n",
              "    }\n",
              "\n",
              "    .colab-df-convert {\n",
              "      background-color: #E8F0FE;\n",
              "      border: none;\n",
              "      border-radius: 50%;\n",
              "      cursor: pointer;\n",
              "      display: none;\n",
              "      fill: #1967D2;\n",
              "      height: 32px;\n",
              "      padding: 0 0 0 0;\n",
              "      width: 32px;\n",
              "    }\n",
              "\n",
              "    .colab-df-convert:hover {\n",
              "      background-color: #E2EBFA;\n",
              "      box-shadow: 0px 1px 2px rgba(60, 64, 67, 0.3), 0px 1px 3px 1px rgba(60, 64, 67, 0.15);\n",
              "      fill: #174EA6;\n",
              "    }\n",
              "\n",
              "    [theme=dark] .colab-df-convert {\n",
              "      background-color: #3B4455;\n",
              "      fill: #D2E3FC;\n",
              "    }\n",
              "\n",
              "    [theme=dark] .colab-df-convert:hover {\n",
              "      background-color: #434B5C;\n",
              "      box-shadow: 0px 1px 3px 1px rgba(0, 0, 0, 0.15);\n",
              "      filter: drop-shadow(0px 1px 2px rgba(0, 0, 0, 0.3));\n",
              "      fill: #FFFFFF;\n",
              "    }\n",
              "  </style>\n",
              "\n",
              "      <script>\n",
              "        const buttonEl =\n",
              "          document.querySelector('#df-5c80b534-c1b4-4153-bdbe-4ef242934d86 button.colab-df-convert');\n",
              "        buttonEl.style.display =\n",
              "          google.colab.kernel.accessAllowed ? 'block' : 'none';\n",
              "\n",
              "        async function convertToInteractive(key) {\n",
              "          const element = document.querySelector('#df-5c80b534-c1b4-4153-bdbe-4ef242934d86');\n",
              "          const dataTable =\n",
              "            await google.colab.kernel.invokeFunction('convertToInteractive',\n",
              "                                                     [key], {});\n",
              "          if (!dataTable) return;\n",
              "\n",
              "          const docLinkHtml = 'Like what you see? Visit the ' +\n",
              "            '<a target=\"_blank\" href=https://colab.research.google.com/notebooks/data_table.ipynb>data table notebook</a>'\n",
              "            + ' to learn more about interactive tables.';\n",
              "          element.innerHTML = '';\n",
              "          dataTable['output_type'] = 'display_data';\n",
              "          await google.colab.output.renderOutput(dataTable, element);\n",
              "          const docLink = document.createElement('div');\n",
              "          docLink.innerHTML = docLinkHtml;\n",
              "          element.appendChild(docLink);\n",
              "        }\n",
              "      </script>\n",
              "    </div>\n",
              "  </div>\n",
              "  "
            ]
          },
          "metadata": {},
          "execution_count": 21
        }
      ]
    },
    {
      "cell_type": "code",
      "source": [
        "result.to_csv(\"Result2.csv\",index=False)"
      ],
      "metadata": {
        "id": "NbVMGhfwzNhq"
      },
      "execution_count": null,
      "outputs": []
    }
  ]
}